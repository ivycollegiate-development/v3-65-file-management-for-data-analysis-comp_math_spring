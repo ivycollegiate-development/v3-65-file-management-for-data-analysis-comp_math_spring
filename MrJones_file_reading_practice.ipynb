{
 "cells": [
  {
   "cell_type": "code",
   "execution_count": 1,
   "id": "9339c863",
   "metadata": {},
   "outputs": [
    {
     "name": "stdout",
     "output_type": "stream",
     "text": [
      "10\n",
      "25\n",
      "42\n",
      "18\n",
      "7\n",
      "36\n",
      "\n"
     ]
    }
   ],
   "source": [
    "# Complete the code below to read the entire file at once\n",
    "# I’ve provided the file name for you\n",
    "file_name = \"numbers.txt\"\n",
    "# Your code here: Open the file, read all contents, and print them\n",
    "with open(file_name, 'r') as file:\n",
    "    content = file.read()\n",
    "    print(content)"
   ]
  },
  {
   "cell_type": "code",
   "execution_count": 2,
   "id": "4f7711be",
   "metadata": {},
   "outputs": [
    {
     "name": "stdout",
     "output_type": "stream",
     "text": [
      "10\n",
      "25\n",
      "42\n",
      "18\n",
      "7\n",
      "36\n"
     ]
    }
   ],
   "source": [
    "# Complete the code below to read the file line by line\n",
    "file_name = \"numbers.txt\"\n",
    "# Your code here: Open the file and loop through each line\n",
    "# Remember to handle the newline characters\n",
    "with open(file_name, 'r') as file:\n",
    "    for line in file:\n",
    "        print(line.strip())  # strip() removes newline characters"
   ]
  }
 ],
 "metadata": {
  "kernelspec": {
   "display_name": "Python 3",
   "language": "python",
   "name": "python3"
  },
  "language_info": {
   "codemirror_mode": {
    "name": "ipython",
    "version": 3
   },
   "file_extension": ".py",
   "mimetype": "text/x-python",
   "name": "python",
   "nbconvert_exporter": "python",
   "pygments_lexer": "ipython3",
   "version": "3.12.1"
  }
 },
 "nbformat": 4,
 "nbformat_minor": 5
}
