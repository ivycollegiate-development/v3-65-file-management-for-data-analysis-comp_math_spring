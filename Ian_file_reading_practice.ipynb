{
 "cells": [
  {
   "cell_type": "code",
   "execution_count": null,
   "metadata": {},
   "outputs": [
    {
     "name": "stdout",
     "output_type": "stream",
     "text": [
      "20\n",
      "24\n",
      "25\n",
      "2\n",
      "4\n",
      "5\n",
      "6\n",
      "70\n",
      "\n"
     ]
    }
   ],
   "source": [
    "# Complete the code below to read the entire file at once\n",
    "# I’ve provided the file name for you\n",
    "file_name = \"numbers.txt\"\n",
    "# Your code here: Open the file, read all contents, and print them\n",
    "# This creates a variable named file_name and assigns it the string \"numbers.txt\", representing the file's name to be opened.    \n",
    "\n",
    "with open(file_name, 'r') as file:\n",
    "\n",
    "    \"\"\" The open() function opens the file named \"numbers.txt\" in read-only mode (indicated by 'r').\n",
    "    Using a with statement ensures the file will be automatically closed after its contents are processed, even if errors occur.\n",
    "    The opened file is temporarily stored in the variable file.\n",
    "    \"\"\"\n",
    "\n",
    "    content = file.read()\n",
    "\n",
    "    \"\"\"\n",
    "    file.read() reads the entire content of the file as a single string and stores this content in the variable content.\n",
    "    \"\"\"\n",
    "\n",
    "    print(content)\n",
    "\n",
    "    \"\"\"\n",
    "    This line prints the content stored in the variable content to the console.\n",
    "    \"\"\""
   ]
  },
  {
   "cell_type": "code",
   "execution_count": 1,
   "metadata": {},
   "outputs": [
    {
     "name": "stdout",
     "output_type": "stream",
     "text": [
      "20\n",
      "24\n",
      "25\n",
      "2\n",
      "4\n",
      "5\n",
      "6\n",
      "70\n"
     ]
    }
   ],
   "source": [
    "# Complete the code below to read the file line by line\n",
    "file_name = \"numbers.txt\"\n",
    "# Your code here: Open the file and loop through each line\n",
    "# Remember to handle the newline characters\n",
    "with open(file_name, 'r') as file:\n",
    "    for line in file:\n",
    "        print(line.strip())  # strip() removes newline charactersbx"
   ]
  },
  {
   "cell_type": "code",
   "execution_count": 2,
   "metadata": {},
   "outputs": [
    {
     "name": "stdout",
     "output_type": "stream",
     "text": [
      "Right \n",
      "Left \n",
      "up \n",
      "down\n",
      "i \n",
      "x\n",
      "r\n"
     ]
    }
   ],
   "source": [
    "# Complete the code below to use the with statement instead\n",
    "# We've provided the file name and mode for you\n",
    "file_name =\"words.txt\"\n",
    "mode =\"r\"\n",
    "# Your code here: Use the with statement to open, read and print file content\n",
    "# The with statement will automatically close the file for you\n",
    "file = open(\"words.txt\",\"r\")\n",
    "content = file.read()\n",
    "print(content)\n",
    "file.close()"
   ]
  },
  {
   "cell_type": "code",
   "execution_count": 2,
   "metadata": {},
   "outputs": [
    {
     "name": "stdout",
     "output_type": "stream",
     "text": [
      "The sum of the numbers is: 156\n"
     ]
    }
   ],
   "source": [
    "# Complete the code below to read numbers from the file and calculate their sum\n",
    "file_name = \"numbers.txt\"\n",
    "\n",
    "# Initialize a variable to store the sum\n",
    "total = 0\n",
    "\n",
    "# Your code here: Open the file, read each number, convert to int, and add to total\n",
    "# Use the \"with\" statement to create a context that will automatically close the file when done\n",
    "\n",
    "# Use the \"open()\" is a function to open the file and returns a file object named file:\n",
    "with open(file_name, 'r') as file:\n",
    "\n",
    "    # Create a loop to iterate through each line in the file one at a time\n",
    "    for line in file:\n",
    "    # For each line in the file, use strip() to remove whitespace and newline characters\n",
    "           line.strip()\n",
    "    # Convert the string to an integer with int()\n",
    "           num = int(line.strip())\n",
    "    # Add that integer to our running total\n",
    "           total += num\n",
    "\n",
    "\n",
    "# After all lines have been processed and the file is automatically closed,\n",
    "# Print the result\n",
    "\n",
    "print(\"The sum of the numbers is:\", total)"
   ]
  }
 ],
 "metadata": {
  "kernelspec": {
   "display_name": "Python 3",
   "language": "python",
   "name": "python3"
  },
  "language_info": {
   "codemirror_mode": {
    "name": "ipython",
    "version": 3
   },
   "file_extension": ".py",
   "mimetype": "text/x-python",
   "name": "python",
   "nbconvert_exporter": "python",
   "pygments_lexer": "ipython3",
   "version": "3.12.1"
  }
 },
 "nbformat": 4,
 "nbformat_minor": 2
}
