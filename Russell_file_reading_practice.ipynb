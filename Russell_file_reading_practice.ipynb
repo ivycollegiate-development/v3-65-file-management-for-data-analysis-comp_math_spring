{
 "cells": [
  {
   "cell_type": "code",
   "execution_count": 3,
   "metadata": {},
   "outputs": [
    {
     "name": "stdout",
     "output_type": "stream",
     "text": [
      "2\n",
      "3\n",
      "4\n",
      "5\n",
      "\n"
     ]
    }
   ],
   "source": [
    "# Complete the code below to read the entire file at once\n",
    "# I’ve provided the file name for you\n",
    "file_name = \"numbers.txt\"\n",
    "# Your code here: Open the file, read all contents, and print them\n",
    "# This creates a variable named file_name and assigns it the string \"numbers.txt\", representing the file's name to be opened.    \n",
    "\n",
    "with open(file_name, 'r') as file:\n",
    "\n",
    "    \"\"\" The open() function opens the file named \"numbers.txt\" in read-only mode (indicated by 'r').\n",
    "    Using a with statement ensures the file will be automatically closed after its contents are processed, even if errors occur.\n",
    "    The opened file is temporarily stored in the variable file.\n",
    "    \"\"\"\n",
    "\n",
    "    content = file.read()\n",
    "\n",
    "    \"\"\"\n",
    "    file.read() reads the entire content of the file as a single string and stores this content in the variable content.\n",
    "    \"\"\"\n",
    "\n",
    "    print(content)\n",
    "\n",
    "    \"\"\"\n",
    "    This line prints the content stored in the variable content to the console.\n",
    "    \"\"\""
   ]
  },
  {
   "cell_type": "code",
   "execution_count": 4,
   "metadata": {},
   "outputs": [
    {
     "name": "stdout",
     "output_type": "stream",
     "text": [
      "2\n",
      "3\n",
      "4\n",
      "5\n"
     ]
    }
   ],
   "source": [
    "# Complete the code below to read the file line by line\n",
    "# Assigns the filename \"numbers.txt\" to the variable file_name\n",
    "file_name = \"numbers.txt\"\n",
    "\n",
    "# Opens the file \"numbers.txt\" in read mode ('r') as a file object named 'file'\n",
    "with open(file_name, 'r') as file:\n",
    "\n",
    "    # Iterates over each line in the opened file\n",
    "    for line in file:\n",
    "\n",
    "        # Prints each line after removing any leading/trailing whitespace (including newline characters)\n",
    "        print(line.strip())  # strip() removes newline characters and extra spaces"
   ]
  },
  {
   "cell_type": "code",
   "execution_count": 5,
   "metadata": {},
   "outputs": [
    {
     "name": "stdout",
     "output_type": "stream",
     "text": [
      "2\n",
      "3\n",
      "4\n",
      "5\n",
      "\n"
     ]
    },
    {
     "data": {
      "text/plain": [
       "'\\nFix the syntax error in the open() function\\nFix the incorrect method name\\nFix the print statement to work in Python 3\\n\\n'"
      ]
     },
     "execution_count": 5,
     "metadata": {},
     "output_type": "execute_result"
    }
   ],
   "source": [
    "\"\"\"\"\n",
    "Find and fix the errors in the following code:\n",
    "\n",
    "\n",
    "file = open(\"numbers.txt\" 'r')\n",
    "content = file.reads()\n",
    "print content\n",
    "\n",
    "\"\"\"\n",
    "\n",
    "file = open(\"numbers.txt\", 'r')\n",
    "content = file.read()\n",
    "print(content)\n",
    "\n",
    "\n",
    "\"\"\"\n",
    "Fix the syntax error in the open() function\n",
    "Fix the incorrect method name\n",
    "Fix the print statement to work in Python 3\n",
    "\n",
    "\"\"\""
   ]
  },
  {
   "cell_type": "code",
   "execution_count": 6,
   "metadata": {},
   "outputs": [
    {
     "name": "stdout",
     "output_type": "stream",
     "text": [
      "The sum of the numbers is: 0\n"
     ]
    }
   ],
   "source": [
    "# Complete the code below to read numbers from the file and calculate their sum\n",
    "file_name = \"numbers.txt\"\n",
    "\n",
    "# Initialize a variable to store the sum\n",
    "total = 0\n",
    "\n",
    "# Your code here: Open the file, read each number, convert to int, and add to total\n",
    "# Use the \"with\" statement to create a context that will automatically close the file when done\n",
    "\n",
    "\n",
    "# Use the \"open()\" is a function to open the file and returns a file object named file:\n",
    "\n",
    "     # Create a loop to iterate through each line in the file one at a time\n",
    "\n",
    "    # For each line in the file, use strip() to remove whitespace and newline characters\n",
    "    # Convert the string to an integer with int()\n",
    "    # Add that integer to our running total\n",
    "\n",
    "\n",
    "# After all lines have been processed and the file is automatically closed,\n",
    "# Print the result\n",
    "\n",
    "print(\"The sum of the numbers is:\", total)"
   ]
  }
 ],
 "metadata": {
  "kernelspec": {
   "display_name": "Python 3",
   "language": "python",
   "name": "python3"
  },
  "language_info": {
   "codemirror_mode": {
    "name": "ipython",
    "version": 3
   },
   "file_extension": ".py",
   "mimetype": "text/x-python",
   "name": "python",
   "nbconvert_exporter": "python",
   "pygments_lexer": "ipython3",
   "version": "3.12.1"
  }
 },
 "nbformat": 4,
 "nbformat_minor": 2
}
