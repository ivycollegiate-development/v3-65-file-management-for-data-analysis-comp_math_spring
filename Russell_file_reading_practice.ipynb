{
 "cells": [
  {
   "cell_type": "code",
   "execution_count": 1,
   "metadata": {},
   "outputs": [
    {
     "ename": "SyntaxError",
     "evalue": "incomplete input (1132219640.py, line 22)",
     "output_type": "error",
     "traceback": [
      "\u001b[0;36m  Cell \u001b[0;32mIn[1], line 22\u001b[0;36m\u001b[0m\n\u001b[0;31m    \"\"\"\u001b[0m\n\u001b[0m    ^\u001b[0m\n\u001b[0;31mSyntaxError\u001b[0m\u001b[0;31m:\u001b[0m incomplete input\n"
     ]
    }
   ],
   "source": [
    "# Complete the code below to read the entire file at once\n",
    "# I’ve provided the file name for you\n",
    "file_name = \"numbers.txt\"\n",
    "# Your code here: Open the file, read all contents, and print them\n",
    "# This creates a variable named file_name and assigns it the string \"numbers.txt\", representing the file's name to be opened.    \n",
    "\n",
    "with open(file_name, 'r') as file:\n",
    "\n",
    "    \"\"\" The open() function opens the file named \"numbers.txt\" in read-only mode (indicated by 'r').\n",
    "    Using a with statement ensures the file will be automatically closed after its contents are processed, even if errors occur.\n",
    "    The opened file is temporarily stored in the variable file.\n",
    "    \"\"\"\n",
    "\n",
    "    content = file.read()\n",
    "\n",
    "    \"\"\"\n",
    "    file.read() reads the entire content of the file as a single string and stores this content in the variable content.\n",
    "    \"\"\"\n",
    "\n",
    "    print(content)\n",
    "\n",
    "    \"\"\"\n",
    "    This line prints the content stored in the variable content to the console."
   ]
  },
  {
   "cell_type": "code",
   "execution_count": null,
   "metadata": {},
   "outputs": [],
   "source": [
    "# Complete the code below to read the file line by line\n",
    "file_name = \"numbers.txt\"\n",
    "# Your code here: Open the file and loop through each line\n",
    "# Remember to handle the newline characters\n",
    "with open(file_name, 'r') as file:\n",
    "    for line in file:\n",
    "        print(line.strip())  # strip() removes newline characters"
   ]
  }
 ],
 "metadata": {
  "kernelspec": {
   "display_name": "Python 3",
   "language": "python",
   "name": "python3"
  },
  "language_info": {
   "codemirror_mode": {
    "name": "ipython",
    "version": 3
   },
   "file_extension": ".py",
   "mimetype": "text/x-python",
   "name": "python",
   "nbconvert_exporter": "python",
   "pygments_lexer": "ipython3",
   "version": "3.12.1"
  }
 },
 "nbformat": 4,
 "nbformat_minor": 2
}
